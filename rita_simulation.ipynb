{
 "cells": [
  {
   "cell_type": "code",
   "execution_count": 1,
   "id": "25741bf7-09b8-48df-90dd-4cf45e92ba4f",
   "metadata": {},
   "outputs": [
    {
     "name": "stdout",
     "output_type": "stream",
     "text": [
      "✅ Jupyter + matplotlib работают\n"
     ]
    }
   ],
   "source": [
    "import datetime\n",
    "import random\n",
    "import matplotlib.pyplot as plt\n",
    "\n",
    "print(\"✅ Jupyter + matplotlib работают\")"
   ]
  },
  {
   "cell_type": "code",
   "execution_count": null,
   "id": "14c08864-68ef-43ab-be1e-5d956591a56b",
   "metadata": {},
   "outputs": [],
   "source": []
  }
 ],
 "metadata": {
  "kernelspec": {
   "display_name": "Python 3 (ipykernel)",
   "language": "python",
   "name": "python3"
  },
  "language_info": {
   "codemirror_mode": {
    "name": "ipython",
    "version": 3
   },
   "file_extension": ".py",
   "mimetype": "text/x-python",
   "name": "python",
   "nbconvert_exporter": "python",
   "pygments_lexer": "ipython3",
   "version": "3.12.2"
  }
 },
 "nbformat": 4,
 "nbformat_minor": 5
}
